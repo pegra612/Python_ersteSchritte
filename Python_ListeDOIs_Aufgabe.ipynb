{
 "cells": [
  {
   "cell_type": "markdown",
   "metadata": {},
   "source": [
    "Aufgabe: für eine Liste von DOIs Ausgabe von title, short-container-title, doi"
   ]
  },
  {
   "cell_type": "code",
   "execution_count": 5,
   "metadata": {},
   "outputs": [],
   "source": [
    "import urllib.request\n",
    "import json"
   ]
  },
  {
   "cell_type": "markdown",
   "metadata": {},
   "source": [
    "Liste mit DOIs\n",
    "dois = [\"10.1371/journal.pcbi.1004668\",\n",
    "        \"10.21105/joss.01035\",\n",
    "        \"10.1038/35057062\",\n",
    "        \"10.21105/joss.01006\"]"
   ]
  },
  {
   "cell_type": "code",
   "execution_count": 1,
   "metadata": {},
   "outputs": [],
   "source": [
    "base_url = \"https://api.crossref.org/works/\""
   ]
  },
  {
   "cell_type": "code",
   "execution_count": 4,
   "metadata": {
    "scrolled": true
   },
   "outputs": [
    {
     "data": {
      "text/plain": [
       "'https://api.crossref.org/works/'"
      ]
     },
     "execution_count": 4,
     "metadata": {},
     "output_type": "execute_result"
    }
   ],
   "source": [
    "base_url"
   ]
  },
  {
   "cell_type": "code",
   "execution_count": 2,
   "metadata": {},
   "outputs": [],
   "source": [
    "dois = [\"10.1371/journal.pcbi.1004668\", \"10.21105/joss.01035\", \"10.1038/35057062\", \"10.21105/joss.01006\"]"
   ]
  },
  {
   "cell_type": "code",
   "execution_count": 3,
   "metadata": {},
   "outputs": [
    {
     "data": {
      "text/plain": [
       "['10.1371/journal.pcbi.1004668',\n",
       " '10.21105/joss.01035',\n",
       " '10.1038/35057062',\n",
       " '10.21105/joss.01006']"
      ]
     },
     "execution_count": 3,
     "metadata": {},
     "output_type": "execute_result"
    }
   ],
   "source": [
    "dois"
   ]
  },
  {
   "cell_type": "code",
   "execution_count": 41,
   "metadata": {},
   "outputs": [
    {
     "name": "stdout",
     "output_type": "stream",
     "text": [
      "A Quick Introduction to Version Control with Git and GitHub\n",
      "PLoS Comput Biol\n",
      "10.1371/journal.pcbi.1004668\n",
      "nasapower: A NASA POWER Global Meteorology, Surface Solar Energy and Climatology Data Client for R\n",
      "JOSS\n",
      "10.21105/joss.01035\n",
      "Initial sequencing and analysis of the human genome\n",
      "Nature\n",
      "10.1038/35057062\n",
      "SeqTools: A python package for easy transformation, combination and evaluation of large datasets.\n",
      "JOSS\n",
      "10.21105/joss.01006\n"
     ]
    }
   ],
   "source": [
    "for doi_single in dois:\n",
    "    full_urls = base_url + doi_single\n",
    "    full_urls_data = urllib.request.urlopen(full_urls).read()\n",
    "    doi_data = json.loads(full_urls_data)\n",
    "    json.dumps(doi_data, indent=2)\n",
    "    print(doi_data[\"message\"][\"title\"][0])\n",
    "    print(doi_data[\"message\"][\"short-container-title\"][0])\n",
    "    print(doi_data[\"message\"][\"DOI\"])"
   ]
  },
  {
   "cell_type": "code",
   "execution_count": 32,
   "metadata": {},
   "outputs": [
    {
     "data": {
      "text/plain": [
       "{'status': 'ok',\n",
       " 'message-type': 'work',\n",
       " 'message-version': '1.0.0',\n",
       " 'message': {'indexed': {'date-parts': [[2019, 2, 18]],\n",
       "   'date-time': '2019-02-18T19:47:39Z',\n",
       "   'timestamp': 1550519259427},\n",
       "  'reference-count': 2,\n",
       "  'publisher': 'The Open Journal',\n",
       "  'issue': '30',\n",
       "  'license': [{'URL': 'http://creativecommons.org/licenses/by/4.0/',\n",
       "    'start': {'date-parts': [[2018, 10, 26]],\n",
       "     'date-time': '2018-10-26T00:00:00Z',\n",
       "     'timestamp': 1540512000000},\n",
       "    'delay-in-days': 0,\n",
       "    'content-version': 'vor'},\n",
       "   {'URL': 'http://creativecommons.org/licenses/by/4.0/',\n",
       "    'start': {'date-parts': [[2018, 10, 26]],\n",
       "     'date-time': '2018-10-26T00:00:00Z',\n",
       "     'timestamp': 1540512000000},\n",
       "    'delay-in-days': 0,\n",
       "    'content-version': 'am'},\n",
       "   {'URL': 'http://creativecommons.org/licenses/by/4.0/',\n",
       "    'start': {'date-parts': [[2018, 10, 26]],\n",
       "     'date-time': '2018-10-26T00:00:00Z',\n",
       "     'timestamp': 1540512000000},\n",
       "    'delay-in-days': 0,\n",
       "    'content-version': 'tdm'}],\n",
       "  'content-domain': {'domain': [], 'crossmark-restriction': False},\n",
       "  'short-container-title': ['JOSS'],\n",
       "  'published-print': {'date-parts': [[2018, 10, 26]]},\n",
       "  'DOI': '10.21105/joss.01006',\n",
       "  'type': 'journal-article',\n",
       "  'created': {'date-parts': [[2018, 10, 26]],\n",
       "   'date-time': '2018-10-26T20:04:42Z',\n",
       "   'timestamp': 1540584282000},\n",
       "  'page': '1006',\n",
       "  'source': 'Crossref',\n",
       "  'is-referenced-by-count': 0,\n",
       "  'title': ['SeqTools: A python package for easy transformation, combination and evaluation of large datasets.'],\n",
       "  'prefix': '10.21105',\n",
       "  'volume': '3',\n",
       "  'author': [{'ORCID': 'http://orcid.org/0000-0003-2943-9888',\n",
       "    'authenticated-orcid': False,\n",
       "    'given': 'Nicolas',\n",
       "    'family': 'Granger',\n",
       "    'sequence': 'first',\n",
       "    'affiliation': []},\n",
       "   {'ORCID': 'http://orcid.org/0000-0002-7383-0588',\n",
       "    'authenticated-orcid': False,\n",
       "    'given': 'Mounîm',\n",
       "    'family': 'Yacoubi',\n",
       "    'sequence': 'additional',\n",
       "    'affiliation': []}],\n",
       "  'member': '8722',\n",
       "  'reference': [{'key': 'ref1',\n",
       "    'unstructured': 'TensorFlow: Large-Scale Machine Learning on Heterogeneous Systems, https://www.tensorflow.org/, Software available from tensorflow.org, Martı́n\\xa0Abadi and Ashish\\xa0Agarwal and Paul\\xa0Barham and Eugene\\xa0Brevdo and Zhifeng\\xa0Chen and Craig\\xa0Citro and Greg\\xa0S.\\xa0Corrado and Andy\\xa0Davis and Jeffrey\\xa0Dean and Matthieu\\xa0Devin and Sanjay\\xa0Ghemawat and Ian\\xa0Goodfellow and Andrew\\xa0Harp and Geoffrey\\xa0Irving and Michael\\xa0Isard and Jia, Yangqing and Rafal\\xa0Jozefowicz and Lukasz\\xa0Kaiser and Manjunath\\xa0Kudlur and Josh\\xa0Levenberg and Dandelion\\xa0Mané and Rajat\\xa0Monga and Sherry\\xa0Moore and Derek\\xa0Murray and Chris\\xa0Olah and Mike\\xa0Schuster and Jonathon\\xa0Shlens and Benoit\\xa0Steiner and Ilya\\xa0Sutskever and Kunal\\xa0Talwar and Paul\\xa0Tucker and Vincent\\xa0Vanhoucke and Vijay\\xa0Vasudevan and Fernanda\\xa0Viégas and Oriol\\xa0Vinyals and Pete\\xa0Warden and Martin\\xa0Wattenberg and Martin\\xa0Wicke and Yuan\\xa0Yu and Xiaoqiang\\xa0Zheng, 2015'},\n",
       "   {'key': 'ref2',\n",
       "    'unstructured': 'Automatic differentiation in PyTorch, Paszke, Adam and Gross, Sam and Chintala, Soumith and Chanan, Gregory and Yang, Edward and DeVito, Zachary and Lin, Zeming and Desmaison, Alban and Antiga, Luca and Lerer, Adam, NIPS-W, 2017'}],\n",
       "  'container-title': ['Journal of Open Source Software'],\n",
       "  'original-title': [],\n",
       "  'link': [{'URL': 'http://www.theoj.org/openjournals/joss-papers/joss.01006/10.21105.joss.01006.pdf',\n",
       "    'content-type': 'application/pdf',\n",
       "    'content-version': 'vor',\n",
       "    'intended-application': 'text-mining'}],\n",
       "  'deposited': {'date-parts': [[2018, 10, 26]],\n",
       "   'date-time': '2018-10-26T20:04:42Z',\n",
       "   'timestamp': 1540584282000},\n",
       "  'score': 1.0,\n",
       "  'subtitle': [],\n",
       "  'short-title': [],\n",
       "  'issued': {'date-parts': [[2018, 10, 26]]},\n",
       "  'references-count': 2,\n",
       "  'journal-issue': {'published-online': {'date-parts': [[2018, 10]]},\n",
       "   'issue': '30'},\n",
       "  'alternative-id': ['10.21105/joss.01006'],\n",
       "  'URL': 'http://dx.doi.org/10.21105/joss.01006',\n",
       "  'relation': {'references': [{'id-type': 'doi',\n",
       "     'id': 'https://doi.org/10.5281/zenodo.1472094',\n",
       "     'asserted-by': 'subject'}],\n",
       "   'has-review': [{'id-type': 'uri',\n",
       "     'id': 'https://github.com/openjournals/joss-reviews/issues/1006',\n",
       "     'asserted-by': 'subject'}],\n",
       "   'cites': []},\n",
       "  'ISSN': ['2475-9066'],\n",
       "  'issn-type': [{'value': '2475-9066', 'type': 'electronic'}]}}"
      ]
     },
     "execution_count": 32,
     "metadata": {},
     "output_type": "execute_result"
    }
   ],
   "source": [
    "doi_data"
   ]
  },
  {
   "cell_type": "code",
   "execution_count": 50,
   "metadata": {},
   "outputs": [
    {
     "name": "stdout",
     "output_type": "stream",
     "text": [
      "A Quick Introduction to Version Control with Git and GitHub --- PLoS Comput Biol --- 10.1371/journal.pcbi.1004668\n",
      "###\n",
      "nasapower: A NASA POWER Global Meteorology, Surface Solar Energy and Climatology Data Client for R --- JOSS --- 10.21105/joss.01035\n",
      "###\n",
      "Initial sequencing and analysis of the human genome --- Nature --- 10.1038/35057062\n",
      "###\n",
      "SeqTools: A python package for easy transformation, combination and evaluation of large datasets. --- JOSS --- 10.21105/joss.01006\n",
      "###\n"
     ]
    }
   ],
   "source": [
    "# Georg hat gleich bei der Befüllung von doi_data nur den Inhalt von \"message\" herausgenommen\n",
    "for doi_single in dois:\n",
    "    full_urls = base_url + doi_single\n",
    "    full_urls_data = urllib.request.urlopen(full_urls).read()\n",
    "    doi_data = json.loads(full_urls_data)[\"message\"]\n",
    "    print(doi_data[\"title\"][0] + \" --- \" + \n",
    "          doi_data[\"short-container-title\"][0] + \" --- \" + \n",
    "          doi_data[\"DOI\"])\n",
    "    print(\"###\")"
   ]
  },
  {
   "cell_type": "code",
   "execution_count": 52,
   "metadata": {},
   "outputs": [
    {
     "name": "stdout",
     "output_type": "stream",
     "text": [
      "10.1371/journal.pcbi.1004668\tA Quick Introduction to Version Control with Git and GitHub\tPLoS Comput Biol\n",
      "###\n",
      "10.21105/joss.01035\tnasapower: A NASA POWER Global Meteorology, Surface Solar Energy and Climatology Data Client for R\tJOSS\n",
      "###\n",
      "10.1038/35057062\tInitial sequencing and analysis of the human genome\tNature\n",
      "###\n",
      "10.21105/joss.01006\tSeqTools: A python package for easy transformation, combination and evaluation of large datasets.\tJOSS\n",
      "###\n"
     ]
    }
   ],
   "source": [
    "# Tabulator als Trennzeichen einfügen\n",
    "for doi_single in dois:\n",
    "    full_urls = base_url + doi_single\n",
    "    full_urls_data = urllib.request.urlopen(full_urls).read()\n",
    "    doi_data = json.loads(full_urls_data)[\"message\"]\n",
    "    print(doi_data[\"DOI\"] + \"\\t\" + \n",
    "          doi_data[\"title\"][0] + \"\\t\" + \n",
    "          doi_data[\"short-container-title\"][0])\n",
    "    print(\"###\")"
   ]
  },
  {
   "cell_type": "code",
   "execution_count": null,
   "metadata": {},
   "outputs": [],
   "source": []
  }
 ],
 "metadata": {
  "kernelspec": {
   "display_name": "Python 3",
   "language": "python",
   "name": "python3"
  },
  "language_info": {
   "codemirror_mode": {
    "name": "ipython",
    "version": 3
   },
   "file_extension": ".py",
   "mimetype": "text/x-python",
   "name": "python",
   "nbconvert_exporter": "python",
   "pygments_lexer": "ipython3",
   "version": "3.7.3"
  }
 },
 "nbformat": 4,
 "nbformat_minor": 2
}
