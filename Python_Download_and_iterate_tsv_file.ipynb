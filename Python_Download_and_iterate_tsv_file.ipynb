{
 "cells": [
  {
   "cell_type": "markdown",
   "metadata": {},
   "source": [
    "# Projekt Dateidownload mit Python"
   ]
  },
  {
   "cell_type": "markdown",
   "metadata": {},
   "source": [
    "1.  Download der Datei"
   ]
  },
  {
   "cell_type": "code",
   "execution_count": 6,
   "metadata": {},
   "outputs": [],
   "source": [
    "# Bibliothek = so eine Art Werkzeugkoffer, Werkzeug in Schränken verstaut... :-)"
   ]
  },
  {
   "cell_type": "code",
   "execution_count": 7,
   "metadata": {},
   "outputs": [],
   "source": [
    "# Library importiert: nur ein bestimmtes Modul (request)\n",
    "import urllib.request"
   ]
  },
  {
   "cell_type": "code",
   "execution_count": 8,
   "metadata": {},
   "outputs": [],
   "source": [
    "# Variable 1: File\n",
    "tsv_file = \"DOIs_PMIDs_PUBYears.tsv\""
   ]
  },
  {
   "cell_type": "code",
   "execution_count": 9,
   "metadata": {},
   "outputs": [],
   "source": [
    "# Variable 2: URL der Datei\n",
    "tsv_url= \"https://raw.githubusercontent.com/foerstner-lab/Bits_and_pieces_for_the_carpentries_workshops/master/text_file_examples/DOIs_PMIDs_PubYears.tsv\""
   ]
  },
  {
   "cell_type": "code",
   "execution_count": 10,
   "metadata": {},
   "outputs": [
    {
     "data": {
      "text/plain": [
       "('DOIs_PMIDs_PUBYears.tsv', <http.client.HTTPMessage at 0x20c1c44f6a0>)"
      ]
     },
     "execution_count": 10,
     "metadata": {},
     "output_type": "execute_result"
    }
   ],
   "source": [
    "# Library, Modul, 2 Variablen\n",
    "urllib.request.urlretrieve(tsv_url, tsv_file)"
   ]
  },
  {
   "cell_type": "code",
   "execution_count": 13,
   "metadata": {},
   "outputs": [
    {
     "name": "stdout",
     "output_type": "stream",
     "text": [
      "DOI\tPMID\tYear\n",
      "\n",
      "---\n",
      "10.1186/s13326-017-0123-3\t28412964\t2017\n",
      "\n",
      "---\n",
      "10.1093/bioinformatics/btw331\t27288493\t2016\n",
      "\n",
      "---\n",
      "10.1007/s11306-018-1356-6\t29706851\t2018\n",
      "\n",
      "---\n",
      "10.1371/journal.pcbi.1004447\t26335558\t2015\n",
      "\n",
      "---\n",
      "10.1093/bioinformatics/btv363.\t26085503\t2015\n",
      "\n",
      "---\n",
      "10.1371/journal.pbio.3000246\t31042704\t2019\n",
      "\n",
      "---\n",
      "10.7717/peerj.6762\t30997295\t2019\n",
      "\n",
      "---\n",
      "10.3389/fpsyg.2019.00564\t30949097\t2019\n",
      "\n",
      "---\n"
     ]
    }
   ],
   "source": [
    "# Datei öffnen: open is eine built-in-Funktion von Python\n",
    "# mit open können nur plain text Dateien ausgelesen werden\n",
    "for line in open(tsv_file):\n",
    "    print(line)\n",
    "    print(\"---\")"
   ]
  },
  {
   "cell_type": "code",
   "execution_count": 14,
   "metadata": {},
   "outputs": [
    {
     "name": "stdout",
     "output_type": "stream",
     "text": [
      "['DOI', 'PMID', 'Year\\n']\n",
      "['10.1186/s13326-017-0123-3', '28412964', '2017\\n']\n",
      "['10.1093/bioinformatics/btw331', '27288493', '2016\\n']\n",
      "['10.1007/s11306-018-1356-6', '29706851', '2018\\n']\n",
      "['10.1371/journal.pcbi.1004447', '26335558', '2015\\n']\n",
      "['10.1093/bioinformatics/btv363.', '26085503', '2015\\n']\n",
      "['10.1371/journal.pbio.3000246', '31042704', '2019\\n']\n",
      "['10.7717/peerj.6762', '30997295', '2019\\n']\n",
      "['10.3389/fpsyg.2019.00564', '30949097', '2019\\n']\n"
     ]
    }
   ],
   "source": [
    "# Datei öffnen: Zeile ist ein String, kann gesplittet werden; Kennzeichen ist ein tab\n",
    "# Ergebnis von split ist eine Liste, erkennbar an den Klammern\n",
    "for line in open(tsv_file):\n",
    "    print(line.split(\"\\t\"))\n"
   ]
  },
  {
   "cell_type": "code",
   "execution_count": 16,
   "metadata": {},
   "outputs": [
    {
     "name": "stdout",
     "output_type": "stream",
     "text": [
      "DOI\n",
      "---\n",
      "10.1186/s13326-017-0123-3\n",
      "---\n",
      "10.1093/bioinformatics/btw331\n",
      "---\n",
      "10.1007/s11306-018-1356-6\n",
      "---\n",
      "10.1371/journal.pcbi.1004447\n",
      "---\n",
      "10.1093/bioinformatics/btv363.\n",
      "---\n",
      "10.1371/journal.pbio.3000246\n",
      "---\n",
      "10.7717/peerj.6762\n",
      "---\n",
      "10.3389/fpsyg.2019.00564\n",
      "---\n"
     ]
    }
   ],
   "source": [
    "# Datei öffnen: Zeile ist ein String, kann gesplittet werden; Kennzeichen ist ein tab\n",
    "# Ergebnis von split ist eine Liste, erkennbar an den Klammern; \n",
    "# wenn nur DOI ausgegeben werden soll: über line-split Variable definieren, Element 0 der Liste ausgeben\n",
    "for line in open(tsv_file):\n",
    "    split_line = line.split(\"\\t\")\n",
    "    print(split_line[0])\n",
    "    print(\"---\")\n"
   ]
  },
  {
   "cell_type": "code",
   "execution_count": null,
   "metadata": {},
   "outputs": [],
   "source": []
  }
 ],
 "metadata": {
  "kernelspec": {
   "display_name": "Python 3",
   "language": "python",
   "name": "python3"
  },
  "language_info": {
   "codemirror_mode": {
    "name": "ipython",
    "version": 3
   },
   "file_extension": ".py",
   "mimetype": "text/x-python",
   "name": "python",
   "nbconvert_exporter": "python",
   "pygments_lexer": "ipython3",
   "version": "3.7.3"
  }
 },
 "nbformat": 4,
 "nbformat_minor": 2
}
